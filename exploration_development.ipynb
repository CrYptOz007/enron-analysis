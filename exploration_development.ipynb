{
 "cells": [
  {
   "cell_type": "code",
   "execution_count": null,
   "metadata": {},
   "outputs": [],
   "source": [
    "!wget -O enron.db https://curtin-my.sharepoint.com/:u:/g/personal/211934g_curtin_edu_au/EaYagsqa2r1Bi5wtHbswGFwBH2kd2uTnz6rlka7GI36GUQ?download=1"
   ]
  },
  {
   "attachments": {},
   "cell_type": "markdown",
   "metadata": {},
   "source": [
    "## Loading the data\n",
    "!wget: Run the command as a shell command in Jupyter notebook\n",
    "\n",
    "-O enron.db: Export the file with the name and type enron.db\n",
    "\n",
    "https://curtin-my.sharepoint.com/:u:/g/personal/211934g_curtin_edu_au/EaYagsqa2r1Bi5wtHbswGFwBH2kd2uTnz6rlka7GI36GUQ?download=1: URL of the file to download\n"
   ]
  },
  {
   "cell_type": "code",
   "execution_count": null,
   "metadata": {},
   "outputs": [],
   "source": [
    "!pip install pandas\n",
    "!pip install matplotlib"
   ]
  },
  {
   "attachments": {},
   "cell_type": "markdown",
   "metadata": {},
   "source": [
    "## Downloading Libraries\n",
    "!pip: Python package manager\n",
    "\n",
    "install: Use the package manager to install a library\n",
    "\n",
    "pandas: Name of the library used for data manipulation and extraction\n",
    "\n",
    "matplotlib: Name of the library used for data visualisation"
   ]
  },
  {
   "cell_type": "code",
   "execution_count": 1,
   "metadata": {},
   "outputs": [],
   "source": [
    "import pandas as pd\n",
    "import sqlite3\n",
    "from matplotlib import pyplot as plt"
   ]
  },
  {
   "attachments": {},
   "cell_type": "markdown",
   "metadata": {},
   "source": [
    "## Importing Libraries\n",
    "\n",
    "import: Import the library or functions\n",
    "\n",
    "from: Import a specific functions from the the library\n",
    "\n",
    "as: Set an alias to use the function instead of typing out the library and function name to use it. For example **plt.plot** instead of **matplotlib.pyplot.plot**"
   ]
  },
  {
   "cell_type": "code",
   "execution_count": 2,
   "metadata": {},
   "outputs": [],
   "source": [
    "def connect():\n",
    "    return sqlite3.connect('enron.db')"
   ]
  },
  {
   "attachments": {},
   "cell_type": "markdown",
   "metadata": {},
   "source": [
    "## Connecting to the downloaded database\n",
    "Using sqlite3 and the function connect() we can connect to the database and query it using pandas later on by returning it from a function."
   ]
  },
  {
   "cell_type": "code",
   "execution_count": 3,
   "metadata": {},
   "outputs": [],
   "source": [
    "conn = connect()\n",
    "\n",
    "query = '''SELECT COUNT(rtype) as count, rtype\n",
    "                FROM recipientinfo\n",
    "                GROUP BY rtype'''\n",
    "\n",
    "df = pd.read_sql_query(query,conn)\n",
    "\n",
    "conn.close()"
   ]
  },
  {
   "attachments": {},
   "cell_type": "markdown",
   "metadata": {},
   "source": [
    "## Query the database and export the results as a dataframe\n",
    "We saved the connection as a variable **conn**\n",
    "\n",
    "Then we can write a regular sql query to retrieve the specific data. Here we are trying to retrieve the number of emails sent that are of different types: 'TO', 'CC, 'BCC'\n",
    "\n",
    "Using pandas, we can export the results of the query by using `pd.read_sql_query()` and passing in two arguments.\n",
    "1. The query in a string\n",
    "2. The object of the connection to the database\n",
    "\n",
    "After that, it is always good practice to `close()` the database connection"
   ]
  },
  {
   "attachments": {},
   "cell_type": "markdown",
   "metadata": {},
   "source": [
    "## Viewing and manipulation"
   ]
  },
  {
   "cell_type": "code",
   "execution_count": 5,
   "metadata": {},
   "outputs": [
    {
     "name": "stdout",
     "output_type": "stream",
     "text": [
      "     count rtype\n",
      "0   253713   BCC\n",
      "1   253735    CC\n",
      "2  1556994    TO\n"
     ]
    }
   ],
   "source": [
    "print(df)"
   ]
  },
  {
   "attachments": {},
   "cell_type": "markdown",
   "metadata": {},
   "source": [
    "Here we are printing the dataframe that we exported from the database. We can see the number of emails sent via 'TO', 'CC' and 'BCC'"
   ]
  },
  {
   "cell_type": "code",
   "execution_count": 7,
   "metadata": {},
   "outputs": [
    {
     "name": "stdout",
     "output_type": "stream",
     "text": [
      "    count rtype\n",
      "0  253713   BCC\n",
      "1  253735    CC\n"
     ]
    }
   ],
   "source": [
    "print(df.head(2))"
   ]
  },
  {
   "attachments": {},
   "cell_type": "markdown",
   "metadata": {},
   "source": [
    "We can also grab the first N rows of the dataframe using `df.head(n)`"
   ]
  },
  {
   "cell_type": "code",
   "execution_count": 8,
   "metadata": {},
   "outputs": [
    {
     "name": "stdout",
     "output_type": "stream",
     "text": [
      "     count rtype\n",
      "2  1556994    TO\n",
      "1   253735    CC\n",
      "0   253713   BCC\n"
     ]
    }
   ],
   "source": [
    "print(df.sort_values('count', ascending=False))"
   ]
  },
  {
   "attachments": {},
   "cell_type": "markdown",
   "metadata": {},
   "source": [
    "We can also reorder the dataframe into descending order based on the `count` column"
   ]
  },
  {
   "cell_type": "code",
   "execution_count": 10,
   "metadata": {},
   "outputs": [
    {
     "name": "stdout",
     "output_type": "stream",
     "text": [
      "0    BCC\n",
      "1     CC\n",
      "2     TO\n",
      "Name: rtype, dtype: object\n",
      "0     253713\n",
      "1     253735\n",
      "2    1556994\n",
      "Name: count, dtype: int64\n"
     ]
    }
   ],
   "source": [
    "rtype = df['rtype']\n",
    "count = df['count']\n",
    "\n",
    "print(rtype)\n",
    "print(count)"
   ]
  },
  {
   "attachments": {},
   "cell_type": "markdown",
   "metadata": {},
   "source": [
    "## Visualisation"
   ]
  },
  {
   "attachments": {},
   "cell_type": "markdown",
   "metadata": {},
   "source": [
    "To begin ploting the dataframe into a graph, lets flatten the dataframe into two arrays."
   ]
  },
  {
   "attachments": {},
   "cell_type": "markdown",
   "metadata": {},
   "source": [
    "There are many different types of graphs we can plot. \n",
    "- Horizontal Bar graph: `plt.barh(rtype, count)`\n",
    "- Line graph: `plt.plot(rtype, count)`\n",
    "- Pie graph: `plt.pie(count, labels=rtype)`\n",
    "\n",
    "We can also add labels to certain graphs with x axis and y axis labels\n",
    "- X Axis Label: `plt.xlabel('STRING')`\n",
    "- Y Axis Label: `plt.ylabel('STRRING')`\n",
    "\n",
    "To enable exact values to show in a bar graph we can emurate the each column and add the label (SOURCE: ChatGPT)"
   ]
  },
  {
   "cell_type": "code",
   "execution_count": 12,
   "metadata": {},
   "outputs": [],
   "source": [
    "#for i, v in enumerate(count):\n",
    "#    plt.text(v, i, str(v), ha='right', va='center')"
   ]
  },
  {
   "attachments": {},
   "cell_type": "markdown",
   "metadata": {},
   "source": [
    "Lets generate a bar graph of the results we got"
   ]
  },
  {
   "cell_type": "code",
   "execution_count": 13,
   "metadata": {},
   "outputs": [
    {
     "data": {
      "text/plain": [
       "<BarContainer object of 3 artists>"
      ]
     },
     "execution_count": 13,
     "metadata": {},
     "output_type": "execute_result"
    },
    {
     "data": {
      "image/png": "[encoded data removed]",
      "text/plain": [
       "<Figure size 640x480 with 1 Axes>"
      ]
     },
     "metadata": {},
     "output_type": "display_data"
    }
   ],
   "source": [
    "plt.barh(rtype, count)"
   ]
  },
  {
   "attachments": {},
   "cell_type": "markdown",
   "metadata": {},
   "source": [
    "Now lets add the exact value labels from before"
   ]
  },
  {
   "cell_type": "code",
   "execution_count": 15,
   "metadata": {},
   "outputs": [
    {
     "data": {
      "image/png": "[encoded data removed]",
      "text/plain": [
       "<Figure size 640x480 with 1 Axes>"
      ]
     },
     "metadata": {},
     "output_type": "display_data"
    }
   ],
   "source": [
    "plt.barh(rtype, count)\n",
    "for i, v in enumerate(count):\n",
    "    plt.text(v, i, str(v), ha='right', va='center')\n",
    "\n",
    "plt.show()"
   ]
  },
  {
   "attachments": {},
   "cell_type": "markdown",
   "metadata": {},
   "source": [
    "## Extras\n",
    "In the **query.py** we used a different method to count the number of key action words used in email subject lines based on **words.csv** list.\n",
    "\n",
    "Here's the function below"
   ]
  },
  {
   "cell_type": "code",
   "execution_count": 45,
   "metadata": {},
   "outputs": [],
   "source": [
    "def keywords():\n",
    "\n",
    "    conn = connect()\n",
    "\n",
    "    # Query\n",
    "    query = '''SELECT date, LOWER(subject) as subject\n",
    "                FROM message\n",
    "                WHERE date BETWEEN '2001-09-01' AND '2001-12-31'\n",
    "                ORDER BY date DESC'''\n",
    "    \n",
    "    # Read the query and convert into dataframe\n",
    "    df = pd.read_sql_query(query, conn)\n",
    "\n",
    "    # Close connection\n",
    "    conn.close()\n",
    "\n",
    "    common_words_df = pd.read_csv('words.csv')\n",
    "    \n",
    "    word_counts = {}\n",
    "\n",
    "    # Iterate each subject line in list of subjects\n",
    "    for subject in df['subject']:\n",
    "        # Iterate each word in common 1000 action words\n",
    "        for word in common_words_df['words']:\n",
    "            # If the word exist in the subject\n",
    "            if word in subject:\n",
    "                # If the word is already being counted\n",
    "                if word in word_counts:\n",
    "                    word_counts[word] += 1\n",
    "                else:\n",
    "                    word_counts[word] = 1\n",
    "\n",
    "    # Create a dataframe from the object with two columns ['key', 'value']\n",
    "    word_counts_df = pd.DataFrame(list(word_counts.items()), columns=['word', 'count'])\n",
    "\n",
    "    # Sort into descesding order based on counter\n",
    "    word_counts_df = word_counts_df.sort_values('count', ascending=False)\n",
    "\n",
    "    # Grab the top 10 most used words\n",
    "    top_10_df = word_counts_df.head(10)\n",
    "\n",
    "    # Convert into array for x and y\n",
    "    words = top_10_df['word'].values\n",
    "    count = top_10_df['count'].values\n",
    "\n",
    "    # Reorder into descending order for graph\n",
    "    words = words[::-1]\n",
    "    count = count[::-1]\n",
    "\n",
    "    # Plot the horizontal bar graph\n",
    "    plt.title(\"Top 10 Subject Keywords\")\n",
    "    plt.ylabel(\"Keyword\")\n",
    "    plt.xlabel(\"Count\")\n",
    "    plt.barh(words, count)\n",
    "    # Add labels for the bar graph\n",
    "    ###############################\n",
    "    # SOURCE: CHATGPT\n",
    "    for i, v in enumerate(count):\n",
    "        plt.text(v, i, str(v), ha='right', va='center')\n",
    "    ###############################\n",
    "    plt.show()"
   ]
  },
  {
   "cell_type": "code",
   "execution_count": null,
   "metadata": {},
   "outputs": [],
   "source": []
  },
  {
   "attachments": {},
   "cell_type": "markdown",
   "metadata": {},
   "source": [
    "We can convert .csv files into dataframes using `pd.read_csv('file_name')`"
   ]
  },
  {
   "cell_type": "code",
   "execution_count": 16,
   "metadata": {},
   "outputs": [
    {
     "name": "stdout",
     "output_type": "stream",
     "text": [
      "        words  Unnamed: 1\n",
      "0     abandon         NaN\n",
      "1      abduct         NaN\n",
      "2        ably         NaN\n",
      "3     abolish         NaN\n",
      "4     abscond         NaN\n",
      "...       ...         ...\n",
      "997      yell         NaN\n",
      "998      yelp         NaN\n",
      "999     yield         NaN\n",
      "1000      zap         NaN\n",
      "1001      zip         NaN\n",
      "\n",
      "[1002 rows x 2 columns]\n"
     ]
    }
   ],
   "source": [
    "csv_df = pd.read_csv('words.csv')\n",
    "\n",
    "print(csv_df)"
   ]
  },
  {
   "attachments": {},
   "cell_type": "markdown",
   "metadata": {},
   "source": [
    "Here we can see the list of 1000 common action words. We will use this to filter against the email subjects"
   ]
  },
  {
   "cell_type": "code",
   "execution_count": 19,
   "metadata": {},
   "outputs": [],
   "source": [
    "conn = connect()\n",
    "\n",
    "# Query\n",
    "query = '''SELECT date, LOWER(subject) as subject\n",
    "            FROM message\n",
    "            WHERE date BETWEEN '2001-09-01' AND '2001-12-31'\n",
    "            ORDER BY date DESC'''\n",
    "\n",
    "# Read the query and convert into dataframe\n",
    "subject_df = pd.read_sql_query(query, conn)\n",
    "\n",
    "# Close connection\n",
    "conn.close()"
   ]
  },
  {
   "attachments": {},
   "cell_type": "markdown",
   "metadata": {},
   "source": [
    "Taking a snippet of the function. Lets retrieve the list of email subject messages and print the first 10 results"
   ]
  },
  {
   "cell_type": "code",
   "execution_count": 20,
   "metadata": {},
   "outputs": [
    {
     "name": "stdout",
     "output_type": "stream",
     "text": [
      "                  date                                            subject\n",
      "0  2001-12-30 23:42:30      ngi publications - monday, december 31st 2001\n",
      "1  2001-12-30 23:42:13      ngi publications - monday, december 31st 2001\n",
      "2  2001-12-30 23:40:15      ngi publications - monday, december 31st 2001\n",
      "3  2001-12-30 23:31:04                             new releases at cdnow!\n",
      "4  2001-12-30 23:01:27          joel newton/ngccorp is out of the office.\n",
      "5  2001-12-30 23:00:15                     \"project doorstep\" target date\n",
      "6  2001-12-30 23:00:10                your mailbox is over its size limit\n",
      "7  2001-12-30 23:00:03                your mailbox is over its size limit\n",
      "8  2001-12-30 22:54:52            bubble trouble - realage tip of the day\n",
      "9  2001-12-30 22:49:42  anchordesk: hope ahead: what i learned from 20...\n"
     ]
    }
   ],
   "source": [
    "print(subject_df.head(10))"
   ]
  },
  {
   "attachments": {},
   "cell_type": "markdown",
   "metadata": {},
   "source": [
    "In order to count the number of action words used in each email. We first have to iterate through each sentence. Taking one sentence at a time, we then have to iterate through each word from the 1000 action word list.\n",
    "After that, we then compare and count if the word exists in the sentence and keep track of it.\n",
    "\n",
    "In order to do so we can use an object"
   ]
  },
  {
   "cell_type": "code",
   "execution_count": 26,
   "metadata": {},
   "outputs": [],
   "source": [
    "word_tracker = {}"
   ]
  },
  {
   "attachments": {},
   "cell_type": "markdown",
   "metadata": {},
   "source": [
    "An object has the ability to store 'key' and 'value' pairs. For example the 'key' in this case would be the word. The 'value would be the counter we are increasing everytime there's a match."
   ]
  },
  {
   "cell_type": "code",
   "execution_count": 27,
   "metadata": {},
   "outputs": [
    {
     "name": "stdout",
     "output_type": "stream",
     "text": [
      "{'plan': 1}\n"
     ]
    }
   ],
   "source": [
    "word = 'plan'\n",
    "word_tracker[word] = 1\n",
    "\n",
    "print(word_tracker)"
   ]
  },
  {
   "attachments": {},
   "cell_type": "markdown",
   "metadata": {},
   "source": [
    "Here we are defining the variable of a word to 'plan'\n",
    "We add a new key to the object by defining object[key] and setting it to = 1 as the value"
   ]
  },
  {
   "cell_type": "code",
   "execution_count": 28,
   "metadata": {},
   "outputs": [
    {
     "name": "stdout",
     "output_type": "stream",
     "text": [
      "{'plan': 2}\n"
     ]
    }
   ],
   "source": [
    "word_tracker[word] += 1\n",
    "print(word_tracker)"
   ]
  },
  {
   "attachments": {},
   "cell_type": "markdown",
   "metadata": {},
   "source": [
    "If the word is already being kept track of, we can just increase it by one using += 1"
   ]
  },
  {
   "attachments": {},
   "cell_type": "markdown",
   "metadata": {},
   "source": [
    "In short using this iterative loop we can get the count of all the action words used in email subjects"
   ]
  },
  {
   "cell_type": "code",
   "execution_count": 30,
   "metadata": {},
   "outputs": [
    {
     "name": "stdout",
     "output_type": "stream",
     "text": [
      "{'ease': 1050, 'do': 2202, 'get': 744, 'project': 495, 'step': 131, 'target': 56, 'size': 167, 'tip': 97, 'earn': 222, 'head': 988, 'learn': 32, 'double': 15, 'report': 2296, 'increase': 230, 'pick': 133, 'balance': 229, 'shout': 10, 'assist': 87, 'count': 720, 'level': 28, 'win': 590, 'give': 51, 'perfect': 43, 'play': 143, 'work': 667, 'enter': 461, 'model': 91, 'review': 556, 'cure': 52, 'edit': 1472, 'prove': 153, 'secure': 15, 'ride': 43, 'find': 44, 'start': 603, 'elect': 559, 'select': 44, 'check': 186, 'meet': 2855, 'plan': 1095, 'aim': 152, 'pass': 294, 'sit': 1767, 'form': 1193, 'inform': 756, 'act': 2535, 'contract': 788, 'forecast': 200, 'drug': 11, 'install': 18, 'extend': 67, 'save': 196, 'help': 117, 'boost': 11, 'offer': 304, 'party': 316, 'detail': 110, 'cut': 278, 'slide': 68, 'rally': 20, 'rip': 286, 'trip': 156, 'found': 44, 'chase': 243, 'purchase': 199, 'survey': 243, 'alert': 229, 'service': 527, 'rock': 212, 'perform': 98, 'add': 542, 'address': 258, 'change': 1011, 'dress': 274, 'hang': 1036, 'trim': 8, 'share': 62, 'thin': 200, 'receive': 77, 'update': 2402, 'order': 319, 'sell': 44, 'serve': 110, 'greet': 80, 'master': 773, 'fund': 309, 'rave': 302, 'watch': 305, 'deliver': 337, 'make': 182, 'led': 456, 'reveal': 8, 'try': 240, 'log': 587, 'test': 475, 'sum': 710, 'attract': 3, 'vent': 339, 'set': 574, 'edge': 117, 'strip': 34, 'value': 86, 'train': 247, 'audit': 71, 'pin': 424, 'position': 453, 'bank': 336, 'stand': 236, 'rate': 860, 'prod': 451, 'confer': 853, 'rob': 226, 'measure': 54, 'hit': 78, 'risk': 380, 'eject': 38, 'transport': 115, 'staff': 327, 'question': 505, 'pose': 273, 'propose': 248, 'structure': 97, 'hug': 18, 'interview': 183, 'mend': 411, 'revise': 521, 'schedule': 666, 'beat': 23, 'mark': 1345, 'market': 1095, 'file': 292, 'develop': 111, 'manage': 512, 'nag': 549, 'turn': 115, 'pat': 367, 'stuff': 64, 'process': 214, 'budget': 216, 'obtain': 2, 'control': 159, 'handle': 7, 'fast': 121, 'invest': 296, 'support': 275, 'deal': 758, 'move': 208, 'effect': 140, 'land': 429, 'flag': 32, 'bar': 193, 'pilot': 19, 'transfer': 192, 'call': 1144, 'invent': 46, 'inventory': 33, 'abandon': 2, 'direct': 370, 'treat': 58, 'shell': 36, 'govern': 191, 'read': 611, 'fight': 45, 'yank': 32, 'champion': 25, 'chart': 266, 'tie': 704, 'page': 88, 'feel': 18, 'reduce': 41, 'finger': 17, 'fend': 11, 'show': 84, 'approach': 154, 'gain': 159, 'tap': 24, 'employ': 766, 'tumble': 7, 'run': 107, 'collate': 92, 'advance': 15, 'institute': 21, 'study': 60, 'present': 575, 'estimate': 104, 'flash': 36, 'lash': 48, 'instruct': 37, 'establish': 20, 'scoop': 3, 'program': 250, 'ram': 306, 'activate': 14, 'book': 285, 'roll': 132, 'spread': 165, 'assign': 300, 'answer': 80, 'rub': 15, 'sap': 121, 'place': 83, 'ward': 366, 'engage': 11, 'sever': 52, 'spring': 47, 'execute': 70, 'print': 63, 'expand': 36, 'create': 22, 'produce': 38, 'regulate': 5, 'take': 101, 'undertake': 1, 'lean': 79, 'anticipate': 3, 'whistle': 2, 'publish': 18, 'undo': 5, 'score': 3, 'distribute': 26, 'retreat': 20, 'research': 78, 'search': 118, 'accomplish': 38, 'park': 131, 'weigh': 11, 'draw': 21, 'design': 55, 'march': 24, 'field': 143, 'spear': 4, 'spot': 40, 'award': 120, 'yell': 8, 'dig': 51, 'hack': 11, 'pack': 108, 'rush': 30, 'submit': 166, 'license': 50, 'cancel': 259, 'jar': 4, 'fill': 16, 'renew': 50, 'coordinate': 4, 'grow': 20, 'stop': 22, 'challenge': 65, 'recommend': 86, 'quiz': 3, 'arrange': 15, 'race': 49, 'preside': 98, 'stock': 158, 'overcome': 1, 'sigh': 28, 'shock': 7, 'charge': 112, 'suck': 16, 'inch': 4, 'pinch': 2, 'buck': 21, 'rise': 39, 'equip': 28, 'link': 244, 'finish': 4, 'easily': 1, 'nip': 43, 'steal': 7, 'chair': 82, 'jam': 27, 'lick': 283, 'author': 112, 'finance': 146, 'blow': 5, 'bill': 220, 'implement': 68, 'aid': 87, 'hold': 104, 'compute': 148, 'feed': 38, 'shut': 21, 'brief': 184, 'authorize': 19, 'experience': 13, 'discover': 64, 'command': 6, 'drill': 33, 'emerge': 50, 'dash': 71, 'monitor': 42, 'sort': 10, 'stroke': 3, 'twist': 17, 'procure': 30, 'resign': 37, 'stack': 29, 'force': 88, 'acquire': 2, 'touch': 66, 'swap': 204, 'mediate': 30, 'write': 37, 'refer': 50, 'solve': 28, 'fan': 106, 'escape': 2, 'crawl': 103, 'complete': 52, 'observe': 1, 'assess': 49, 'draft': 684, 'consult': 65, 'left': 27, 'broke': 99, 'introduce': 20, 'index': 118, 'uncover': 2, 'cram': 16, 'withdraw': 24, 'guide': 31, 'recruit': 43, 'quit': 74, 'switch': 34, 'relate': 146, 'delete': 11, 'flip': 10, 'catch': 16, 'drop': 27, 'predict': 22, 'shear': 2, 'forge': 14, 'kill': 36, 'limp': 7, 'prepare': 11, 'maintain': 6, 'minimize': 1, 'explain': 6, 'lead': 112, 'screen': 33, 'unify': 34, 'deduct': 3, 'bang': 6, 'unite': 60, 'lower': 57, 'achieve': 22, 'crouch': 2, 'snap': 5, 'remove': 20, 'nick': 14, 'stub': 118, 'represent': 33, 'interchange': 6, 'clip': 22, 'convert': 16, 'dive': 26, 'fear': 14, 'negotiate': 84, 'collect': 45, 'pump': 8, 'shift': 23, 'quicken': 3, 'throw': 16, 'insert': 7, 'fix': 43, 'arrest': 5, 'lecture': 9, 'jump': 7, 'retain': 47, 'restore': 5, 'spin': 9, 'outline': 15, 'probe': 16, 'ground': 18, 'dance': 43, 'provide': 25, 'inspect': 3, 'steer': 9, 'strap': 2, 'trap': 2, 'tear': 14, 'expedite': 3, 'supply': 84, 'elope': 12, 'poke': 18, 'zip': 7, 'weed': 4, 'encourage': 6, 'bump': 4, 'stick': 11, 'locate': 15, 'nominate': 13, 'graduate': 17, 'telephone': 111, 'pray': 21, 'fall': 95, 'reel': 37, 'drink': 40, 'track': 227, 'strike': 20, 'hail': 5, 'ensure': 2, 'record': 29, 'sense': 5, 'protect': 81, 'gather': 13, 'combine': 3, 'guard': 2, 'scan': 55, 'respond': 56, 'teach': 6, 'push': 7, 'detect': 1, 'verify': 3, 'stress': 9, 'sip': 7, 'advise': 5, 'saw': 4, 'stun': 1, 'improve': 12, 'hire': 30, 'unwind': 33, 'ably': 4, 'suspend': 66, 'dry': 18, 'indict': 2, 'toss': 1, 'punch': 1, 'grab': 8, 'slam': 1, 'block': 19, 'rebuild': 10, 'prompt': 13, 'integrate': 7, 'clarify': 1, 'launch': 17, 'consolidate': 35, 'hide': 19, 'construct': 49, 'clap': 2, 'influence': 10, 'customize': 6, 'allocate': 8, 'yield': 3, 'streamline': 1, 'spy': 10, 'adjust': 51, 'illustrate': 3, 'debate': 13, 'display': 3, 'sprint': 8, 'foster': 7, 'enact': 7, 'exit': 12, 'nab': 49, 'explore': 8, 'set up': 13, 'conduct': 30, 'exhibit': 56, 'judge': 65, 'vault': 3, 'scout': 4, 'dart': 10, 'raise': 24, 'participate': 173, 'type': 43, 'attack': 59, 'evaluate': 1, 'swing': 5, 'formalize': 1, 'listen': 4, 'jimmy': 1, 'focus': 35, 'appropriate': 2, 'spark': 21, 'fly': 17, 'understand': 14, 'narrow': 3, 'crash': 9, 'drag': 3, 'counsel': 38, 'plod': 5, 'split': 6, 'walk': 44, 'flee': 10, 'avoid': 20, 'halt': 2, 'skim': 1, 'advocate': 4, 'climb': 2, 'channel': 6, 'drain': 2, 'taste': 1, 'kick': 24, 'pioneer': 7, 'tutor': 2, 'transform': 4, 'shape': 13, 'pirate': 2, 'campaign': 29, 'collapse': 10, 'wave': 6, 'scare': 9, 'evacuate': 1, 'whirl': 1, 'extract': 2, 'struck': 1, 'elevate': 1, 'pitch': 5, 'spur': 8, 'engineer': 10, 'tread': 2, 'collar': 4, 'repel': 1, 'pore': 4, 'parachute': 2, 'penetrate': 1, 'screw': 5, 'accelerate': 5, 'isolate': 1, 'scrub': 1, 'nail': 2, 'raid': 11, 'panic': 2, 'slay': 2, 'resist': 2, 'stagger': 1, 'peep': 3, 'harass': 19, 'manufacture': 1, 'define': 1, 'tout': 4, 'examine': 15, 'affirm': 2, 'experiment': 3, 'segment': 5, 'clutch': 1, 'organize': 8, 'spell': 1, 'keynote': 4, 'deck': 20, 'resolve': 13, 'taunt': 2, 'snoop': 1, 'signal': 3, 'brace': 3, 'sway': 2, 'shorten': 5, 'sail': 6, 'distinguish': 4, 'dodge': 3, 'fashion': 6, 'spike': 5, 'smack': 1, 'maim': 2, 'threaten': 2, 'fumble': 1, 'seal': 3, 'pull': 4, 'shield': 3, 'scale': 3, 'drip': 4, 'smell': 1, 'brighten': 3, 'trot': 10, 'delegate': 3, 'ignore': 1, 'eliminate': 2, 'pursue': 1, 'paw': 6, 'expose': 2, 'coach': 2, 'inspire': 1, 'summarize': 4, 'initiate': 2, 'lunge': 3, 'plunge': 3, 'needle': 10, 'parade': 3, 'compile': 5, 'pile': 6, 'fade': 2, 'rape': 3, 'dominate': 1, 'purge': 1, 'tuck': 3, 'effectively': 2, 'molest': 1, 'translate': 3, 'automate': 3, 'stamp': 1, 'dispatch': 4, 'blend': 7, 'decide': 3, 'erupt': 1, 'blast': 2, 'commandeer': 2, 'injure': 1, 'intensify': 3, 'abuse': 11, 'critique': 1, 'repair': 3, 'devise': 4, 'relieve': 1, 'persuade': 3, 'clash': 2, 'analyze': 1, 'strengthen': 1, 'spray': 1, 'fake': 1, 'generate': 1, 'validate': 1, 'shoot': 4, 'avert': 1, 'photograph': 1, 'drape': 2, 'investigate': 1, 'slash': 1, 'unravel': 6, 'bury': 6, 'decrease': 6, 'mourn': 3, 'swim': 1, 'mentor': 4, 'wreck': 1, 'gossip': 2, 'scour': 2, 'proofread': 1, 'tilt': 1, 'mock': 1, 'accuse': 3, 'actively': 2, 'inject': 1, 'haul': 2, 'transcribe': 1, 'sew': 1, 'picket': 3, 'built': 1, 'wade': 1, 'enable': 1, 'creep': 1, 'hitch': 2, 'soil': 2, 'recoup': 2, 'sustain': 2, 'slug': 1}\n"
     ]
    }
   ],
   "source": [
    "word_count = {}\n",
    "\n",
    "# Iterate each subject line in list of subjects\n",
    "for subject in subject_df['subject']:\n",
    "    # Iterate each word in common 1000 action words\n",
    "    for word in csv_df['words']:\n",
    "        # If the word exist in the subject\n",
    "        if word in subject:\n",
    "            # If the word is already being counted\n",
    "            if word in word_count:\n",
    "                word_count[word] += 1\n",
    "            else:\n",
    "                word_count[word] = 1\n",
    "\n",
    "print(word_count)"
   ]
  },
  {
   "attachments": {},
   "cell_type": "markdown",
   "metadata": {},
   "source": [
    "Following that we can convert it into a dataframe by using pandas. First lets convert into into a dictionary"
   ]
  },
  {
   "cell_type": "code",
   "execution_count": 32,
   "metadata": {},
   "outputs": [
    {
     "name": "stdout",
     "output_type": "stream",
     "text": [
      "dict_items([('ease', 1050), ('do', 2202), ('get', 744), ('project', 495), ('step', 131), ('target', 56), ('size', 167), ('tip', 97), ('earn', 222), ('head', 988), ('learn', 32), ('double', 15), ('report', 2296), ('increase', 230), ('pick', 133), ('balance', 229), ('shout', 10), ('assist', 87), ('count', 720), ('level', 28), ('win', 590), ('give', 51), ('perfect', 43), ('play', 143), ('work', 667), ('enter', 461), ('model', 91), ('review', 556), ('cure', 52), ('edit', 1472), ('prove', 153), ('secure', 15), ('ride', 43), ('find', 44), ('start', 603), ('elect', 559), ('select', 44), ('check', 186), ('meet', 2855), ('plan', 1095), ('aim', 152), ('pass', 294), ('sit', 1767), ('form', 1193), ('inform', 756), ('act', 2535), ('contract', 788), ('forecast', 200), ('drug', 11), ('install', 18), ('extend', 67), ('save', 196), ('help', 117), ('boost', 11), ('offer', 304), ('party', 316), ('detail', 110), ('cut', 278), ('slide', 68), ('rally', 20), ('rip', 286), ('trip', 156), ('found', 44), ('chase', 243), ('purchase', 199), ('survey', 243), ('alert', 229), ('service', 527), ('rock', 212), ('perform', 98), ('add', 542), ('address', 258), ('change', 1011), ('dress', 274), ('hang', 1036), ('trim', 8), ('share', 62), ('thin', 200), ('receive', 77), ('update', 2402), ('order', 319), ('sell', 44), ('serve', 110), ('greet', 80), ('master', 773), ('fund', 309), ('rave', 302), ('watch', 305), ('deliver', 337), ('make', 182), ('led', 456), ('reveal', 8), ('try', 240), ('log', 587), ('test', 475), ('sum', 710), ('attract', 3), ('vent', 339), ('set', 574), ('edge', 117), ('strip', 34), ('value', 86), ('train', 247), ('audit', 71), ('pin', 424), ('position', 453), ('bank', 336), ('stand', 236), ('rate', 860), ('prod', 451), ('confer', 853), ('rob', 226), ('measure', 54), ('hit', 78), ('risk', 380), ('eject', 38), ('transport', 115), ('staff', 327), ('question', 505), ('pose', 273), ('propose', 248), ('structure', 97), ('hug', 18), ('interview', 183), ('mend', 411), ('revise', 521), ('schedule', 666), ('beat', 23), ('mark', 1345), ('market', 1095), ('file', 292), ('develop', 111), ('manage', 512), ('nag', 549), ('turn', 115), ('pat', 367), ('stuff', 64), ('process', 214), ('budget', 216), ('obtain', 2), ('control', 159), ('handle', 7), ('fast', 121), ('invest', 296), ('support', 275), ('deal', 758), ('move', 208), ('effect', 140), ('land', 429), ('flag', 32), ('bar', 193), ('pilot', 19), ('transfer', 192), ('call', 1144), ('invent', 46), ('inventory', 33), ('abandon', 2), ('direct', 370), ('treat', 58), ('shell', 36), ('govern', 191), ('read', 611), ('fight', 45), ('yank', 32), ('champion', 25), ('chart', 266), ('tie', 704), ('page', 88), ('feel', 18), ('reduce', 41), ('finger', 17), ('fend', 11), ('show', 84), ('approach', 154), ('gain', 159), ('tap', 24), ('employ', 766), ('tumble', 7), ('run', 107), ('collate', 92), ('advance', 15), ('institute', 21), ('study', 60), ('present', 575), ('estimate', 104), ('flash', 36), ('lash', 48), ('instruct', 37), ('establish', 20), ('scoop', 3), ('program', 250), ('ram', 306), ('activate', 14), ('book', 285), ('roll', 132), ('spread', 165), ('assign', 300), ('answer', 80), ('rub', 15), ('sap', 121), ('place', 83), ('ward', 366), ('engage', 11), ('sever', 52), ('spring', 47), ('execute', 70), ('print', 63), ('expand', 36), ('create', 22), ('produce', 38), ('regulate', 5), ('take', 101), ('undertake', 1), ('lean', 79), ('anticipate', 3), ('whistle', 2), ('publish', 18), ('undo', 5), ('score', 3), ('distribute', 26), ('retreat', 20), ('research', 78), ('search', 118), ('accomplish', 38), ('park', 131), ('weigh', 11), ('draw', 21), ('design', 55), ('march', 24), ('field', 143), ('spear', 4), ('spot', 40), ('award', 120), ('yell', 8), ('dig', 51), ('hack', 11), ('pack', 108), ('rush', 30), ('submit', 166), ('license', 50), ('cancel', 259), ('jar', 4), ('fill', 16), ('renew', 50), ('coordinate', 4), ('grow', 20), ('stop', 22), ('challenge', 65), ('recommend', 86), ('quiz', 3), ('arrange', 15), ('race', 49), ('preside', 98), ('stock', 158), ('overcome', 1), ('sigh', 28), ('shock', 7), ('charge', 112), ('suck', 16), ('inch', 4), ('pinch', 2), ('buck', 21), ('rise', 39), ('equip', 28), ('link', 244), ('finish', 4), ('easily', 1), ('nip', 43), ('steal', 7), ('chair', 82), ('jam', 27), ('lick', 283), ('author', 112), ('finance', 146), ('blow', 5), ('bill', 220), ('implement', 68), ('aid', 87), ('hold', 104), ('compute', 148), ('feed', 38), ('shut', 21), ('brief', 184), ('authorize', 19), ('experience', 13), ('discover', 64), ('command', 6), ('drill', 33), ('emerge', 50), ('dash', 71), ('monitor', 42), ('sort', 10), ('stroke', 3), ('twist', 17), ('procure', 30), ('resign', 37), ('stack', 29), ('force', 88), ('acquire', 2), ('touch', 66), ('swap', 204), ('mediate', 30), ('write', 37), ('refer', 50), ('solve', 28), ('fan', 106), ('escape', 2), ('crawl', 103), ('complete', 52), ('observe', 1), ('assess', 49), ('draft', 684), ('consult', 65), ('left', 27), ('broke', 99), ('introduce', 20), ('index', 118), ('uncover', 2), ('cram', 16), ('withdraw', 24), ('guide', 31), ('recruit', 43), ('quit', 74), ('switch', 34), ('relate', 146), ('delete', 11), ('flip', 10), ('catch', 16), ('drop', 27), ('predict', 22), ('shear', 2), ('forge', 14), ('kill', 36), ('limp', 7), ('prepare', 11), ('maintain', 6), ('minimize', 1), ('explain', 6), ('lead', 112), ('screen', 33), ('unify', 34), ('deduct', 3), ('bang', 6), ('unite', 60), ('lower', 57), ('achieve', 22), ('crouch', 2), ('snap', 5), ('remove', 20), ('nick', 14), ('stub', 118), ('represent', 33), ('interchange', 6), ('clip', 22), ('convert', 16), ('dive', 26), ('fear', 14), ('negotiate', 84), ('collect', 45), ('pump', 8), ('shift', 23), ('quicken', 3), ('throw', 16), ('insert', 7), ('fix', 43), ('arrest', 5), ('lecture', 9), ('jump', 7), ('retain', 47), ('restore', 5), ('spin', 9), ('outline', 15), ('probe', 16), ('ground', 18), ('dance', 43), ('provide', 25), ('inspect', 3), ('steer', 9), ('strap', 2), ('trap', 2), ('tear', 14), ('expedite', 3), ('supply', 84), ('elope', 12), ('poke', 18), ('zip', 7), ('weed', 4), ('encourage', 6), ('bump', 4), ('stick', 11), ('locate', 15), ('nominate', 13), ('graduate', 17), ('telephone', 111), ('pray', 21), ('fall', 95), ('reel', 37), ('drink', 40), ('track', 227), ('strike', 20), ('hail', 5), ('ensure', 2), ('record', 29), ('sense', 5), ('protect', 81), ('gather', 13), ('combine', 3), ('guard', 2), ('scan', 55), ('respond', 56), ('teach', 6), ('push', 7), ('detect', 1), ('verify', 3), ('stress', 9), ('sip', 7), ('advise', 5), ('saw', 4), ('stun', 1), ('improve', 12), ('hire', 30), ('unwind', 33), ('ably', 4), ('suspend', 66), ('dry', 18), ('indict', 2), ('toss', 1), ('punch', 1), ('grab', 8), ('slam', 1), ('block', 19), ('rebuild', 10), ('prompt', 13), ('integrate', 7), ('clarify', 1), ('launch', 17), ('consolidate', 35), ('hide', 19), ('construct', 49), ('clap', 2), ('influence', 10), ('customize', 6), ('allocate', 8), ('yield', 3), ('streamline', 1), ('spy', 10), ('adjust', 51), ('illustrate', 3), ('debate', 13), ('display', 3), ('sprint', 8), ('foster', 7), ('enact', 7), ('exit', 12), ('nab', 49), ('explore', 8), ('set up', 13), ('conduct', 30), ('exhibit', 56), ('judge', 65), ('vault', 3), ('scout', 4), ('dart', 10), ('raise', 24), ('participate', 173), ('type', 43), ('attack', 59), ('evaluate', 1), ('swing', 5), ('formalize', 1), ('listen', 4), ('jimmy', 1), ('focus', 35), ('appropriate', 2), ('spark', 21), ('fly', 17), ('understand', 14), ('narrow', 3), ('crash', 9), ('drag', 3), ('counsel', 38), ('plod', 5), ('split', 6), ('walk', 44), ('flee', 10), ('avoid', 20), ('halt', 2), ('skim', 1), ('advocate', 4), ('climb', 2), ('channel', 6), ('drain', 2), ('taste', 1), ('kick', 24), ('pioneer', 7), ('tutor', 2), ('transform', 4), ('shape', 13), ('pirate', 2), ('campaign', 29), ('collapse', 10), ('wave', 6), ('scare', 9), ('evacuate', 1), ('whirl', 1), ('extract', 2), ('struck', 1), ('elevate', 1), ('pitch', 5), ('spur', 8), ('engineer', 10), ('tread', 2), ('collar', 4), ('repel', 1), ('pore', 4), ('parachute', 2), ('penetrate', 1), ('screw', 5), ('accelerate', 5), ('isolate', 1), ('scrub', 1), ('nail', 2), ('raid', 11), ('panic', 2), ('slay', 2), ('resist', 2), ('stagger', 1), ('peep', 3), ('harass', 19), ('manufacture', 1), ('define', 1), ('tout', 4), ('examine', 15), ('affirm', 2), ('experiment', 3), ('segment', 5), ('clutch', 1), ('organize', 8), ('spell', 1), ('keynote', 4), ('deck', 20), ('resolve', 13), ('taunt', 2), ('snoop', 1), ('signal', 3), ('brace', 3), ('sway', 2), ('shorten', 5), ('sail', 6), ('distinguish', 4), ('dodge', 3), ('fashion', 6), ('spike', 5), ('smack', 1), ('maim', 2), ('threaten', 2), ('fumble', 1), ('seal', 3), ('pull', 4), ('shield', 3), ('scale', 3), ('drip', 4), ('smell', 1), ('brighten', 3), ('trot', 10), ('delegate', 3), ('ignore', 1), ('eliminate', 2), ('pursue', 1), ('paw', 6), ('expose', 2), ('coach', 2), ('inspire', 1), ('summarize', 4), ('initiate', 2), ('lunge', 3), ('plunge', 3), ('needle', 10), ('parade', 3), ('compile', 5), ('pile', 6), ('fade', 2), ('rape', 3), ('dominate', 1), ('purge', 1), ('tuck', 3), ('effectively', 2), ('molest', 1), ('translate', 3), ('automate', 3), ('stamp', 1), ('dispatch', 4), ('blend', 7), ('decide', 3), ('erupt', 1), ('blast', 2), ('commandeer', 2), ('injure', 1), ('intensify', 3), ('abuse', 11), ('critique', 1), ('repair', 3), ('devise', 4), ('relieve', 1), ('persuade', 3), ('clash', 2), ('analyze', 1), ('strengthen', 1), ('spray', 1), ('fake', 1), ('generate', 1), ('validate', 1), ('shoot', 4), ('avert', 1), ('photograph', 1), ('drape', 2), ('investigate', 1), ('slash', 1), ('unravel', 6), ('bury', 6), ('decrease', 6), ('mourn', 3), ('swim', 1), ('mentor', 4), ('wreck', 1), ('gossip', 2), ('scour', 2), ('proofread', 1), ('tilt', 1), ('mock', 1), ('accuse', 3), ('actively', 2), ('inject', 1), ('haul', 2), ('transcribe', 1), ('sew', 1), ('picket', 3), ('built', 1), ('wade', 1), ('enable', 1), ('creep', 1), ('hitch', 2), ('soil', 2), ('recoup', 2), ('sustain', 2), ('slug', 1)])\n"
     ]
    }
   ],
   "source": [
    "dictionary = word_count.items()\n",
    "print(dictionary)"
   ]
  },
  {
   "attachments": {},
   "cell_type": "markdown",
   "metadata": {},
   "source": [
    "Then convert it into a list"
   ]
  },
  {
   "cell_type": "code",
   "execution_count": 33,
   "metadata": {},
   "outputs": [
    {
     "data": {
      "text/plain": [
       "[('ease', 1050),\n",
       " ('do', 2202),\n",
       " ('get', 744),\n",
       " ('project', 495),\n",
       " ('step', 131),\n",
       " ('target', 56),\n",
       " ('size', 167),\n",
       " ('tip', 97),\n",
       " ('earn', 222),\n",
       " ('head', 988),\n",
       " ('learn', 32),\n",
       " ('double', 15),\n",
       " ('report', 2296),\n",
       " ('increase', 230),\n",
       " ('pick', 133),\n",
       " ('balance', 229),\n",
       " ('shout', 10),\n",
       " ('assist', 87),\n",
       " ('count', 720),\n",
       " ('level', 28),\n",
       " ('win', 590),\n",
       " ('give', 51),\n",
       " ('perfect', 43),\n",
       " ('play', 143),\n",
       " ('work', 667),\n",
       " ('enter', 461),\n",
       " ('model', 91),\n",
       " ('review', 556),\n",
       " ('cure', 52),\n",
       " ('edit', 1472),\n",
       " ('prove', 153),\n",
       " ('secure', 15),\n",
       " ('ride', 43),\n",
       " ('find', 44),\n",
       " ('start', 603),\n",
       " ('elect', 559),\n",
       " ('select', 44),\n",
       " ('check', 186),\n",
       " ('meet', 2855),\n",
       " ('plan', 1095),\n",
       " ('aim', 152),\n",
       " ('pass', 294),\n",
       " ('sit', 1767),\n",
       " ('form', 1193),\n",
       " ('inform', 756),\n",
       " ('act', 2535),\n",
       " ('contract', 788),\n",
       " ('forecast', 200),\n",
       " ('drug', 11),\n",
       " ('install', 18),\n",
       " ('extend', 67),\n",
       " ('save', 196),\n",
       " ('help', 117),\n",
       " ('boost', 11),\n",
       " ('offer', 304),\n",
       " ('party', 316),\n",
       " ('detail', 110),\n",
       " ('cut', 278),\n",
       " ('slide', 68),\n",
       " ('rally', 20),\n",
       " ('rip', 286),\n",
       " ('trip', 156),\n",
       " ('found', 44),\n",
       " ('chase', 243),\n",
       " ('purchase', 199),\n",
       " ('survey', 243),\n",
       " ('alert', 229),\n",
       " ('service', 527),\n",
       " ('rock', 212),\n",
       " ('perform', 98),\n",
       " ('add', 542),\n",
       " ('address', 258),\n",
       " ('change', 1011),\n",
       " ('dress', 274),\n",
       " ('hang', 1036),\n",
       " ('trim', 8),\n",
       " ('share', 62),\n",
       " ('thin', 200),\n",
       " ('receive', 77),\n",
       " ('update', 2402),\n",
       " ('order', 319),\n",
       " ('sell', 44),\n",
       " ('serve', 110),\n",
       " ('greet', 80),\n",
       " ('master', 773),\n",
       " ('fund', 309),\n",
       " ('rave', 302),\n",
       " ('watch', 305),\n",
       " ('deliver', 337),\n",
       " ('make', 182),\n",
       " ('led', 456),\n",
       " ('reveal', 8),\n",
       " ('try', 240),\n",
       " ('log', 587),\n",
       " ('test', 475),\n",
       " ('sum', 710),\n",
       " ('attract', 3),\n",
       " ('vent', 339),\n",
       " ('set', 574),\n",
       " ('edge', 117),\n",
       " ('strip', 34),\n",
       " ('value', 86),\n",
       " ('train', 247),\n",
       " ('audit', 71),\n",
       " ('pin', 424),\n",
       " ('position', 453),\n",
       " ('bank', 336),\n",
       " ('stand', 236),\n",
       " ('rate', 860),\n",
       " ('prod', 451),\n",
       " ('confer', 853),\n",
       " ('rob', 226),\n",
       " ('measure', 54),\n",
       " ('hit', 78),\n",
       " ('risk', 380),\n",
       " ('eject', 38),\n",
       " ('transport', 115),\n",
       " ('staff', 327),\n",
       " ('question', 505),\n",
       " ('pose', 273),\n",
       " ('propose', 248),\n",
       " ('structure', 97),\n",
       " ('hug', 18),\n",
       " ('interview', 183),\n",
       " ('mend', 411),\n",
       " ('revise', 521),\n",
       " ('schedule', 666),\n",
       " ('beat', 23),\n",
       " ('mark', 1345),\n",
       " ('market', 1095),\n",
       " ('file', 292),\n",
       " ('develop', 111),\n",
       " ('manage', 512),\n",
       " ('nag', 549),\n",
       " ('turn', 115),\n",
       " ('pat', 367),\n",
       " ('stuff', 64),\n",
       " ('process', 214),\n",
       " ('budget', 216),\n",
       " ('obtain', 2),\n",
       " ('control', 159),\n",
       " ('handle', 7),\n",
       " ('fast', 121),\n",
       " ('invest', 296),\n",
       " ('support', 275),\n",
       " ('deal', 758),\n",
       " ('move', 208),\n",
       " ('effect', 140),\n",
       " ('land', 429),\n",
       " ('flag', 32),\n",
       " ('bar', 193),\n",
       " ('pilot', 19),\n",
       " ('transfer', 192),\n",
       " ('call', 1144),\n",
       " ('invent', 46),\n",
       " ('inventory', 33),\n",
       " ('abandon', 2),\n",
       " ('direct', 370),\n",
       " ('treat', 58),\n",
       " ('shell', 36),\n",
       " ('govern', 191),\n",
       " ('read', 611),\n",
       " ('fight', 45),\n",
       " ('yank', 32),\n",
       " ('champion', 25),\n",
       " ('chart', 266),\n",
       " ('tie', 704),\n",
       " ('page', 88),\n",
       " ('feel', 18),\n",
       " ('reduce', 41),\n",
       " ('finger', 17),\n",
       " ('fend', 11),\n",
       " ('show', 84),\n",
       " ('approach', 154),\n",
       " ('gain', 159),\n",
       " ('tap', 24),\n",
       " ('employ', 766),\n",
       " ('tumble', 7),\n",
       " ('run', 107),\n",
       " ('collate', 92),\n",
       " ('advance', 15),\n",
       " ('institute', 21),\n",
       " ('study', 60),\n",
       " ('present', 575),\n",
       " ('estimate', 104),\n",
       " ('flash', 36),\n",
       " ('lash', 48),\n",
       " ('instruct', 37),\n",
       " ('establish', 20),\n",
       " ('scoop', 3),\n",
       " ('program', 250),\n",
       " ('ram', 306),\n",
       " ('activate', 14),\n",
       " ('book', 285),\n",
       " ('roll', 132),\n",
       " ('spread', 165),\n",
       " ('assign', 300),\n",
       " ('answer', 80),\n",
       " ('rub', 15),\n",
       " ('sap', 121),\n",
       " ('place', 83),\n",
       " ('ward', 366),\n",
       " ('engage', 11),\n",
       " ('sever', 52),\n",
       " ('spring', 47),\n",
       " ('execute', 70),\n",
       " ('print', 63),\n",
       " ('expand', 36),\n",
       " ('create', 22),\n",
       " ('produce', 38),\n",
       " ('regulate', 5),\n",
       " ('take', 101),\n",
       " ('undertake', 1),\n",
       " ('lean', 79),\n",
       " ('anticipate', 3),\n",
       " ('whistle', 2),\n",
       " ('publish', 18),\n",
       " ('undo', 5),\n",
       " ('score', 3),\n",
       " ('distribute', 26),\n",
       " ('retreat', 20),\n",
       " ('research', 78),\n",
       " ('search', 118),\n",
       " ('accomplish', 38),\n",
       " ('park', 131),\n",
       " ('weigh', 11),\n",
       " ('draw', 21),\n",
       " ('design', 55),\n",
       " ('march', 24),\n",
       " ('field', 143),\n",
       " ('spear', 4),\n",
       " ('spot', 40),\n",
       " ('award', 120),\n",
       " ('yell', 8),\n",
       " ('dig', 51),\n",
       " ('hack', 11),\n",
       " ('pack', 108),\n",
       " ('rush', 30),\n",
       " ('submit', 166),\n",
       " ('license', 50),\n",
       " ('cancel', 259),\n",
       " ('jar', 4),\n",
       " ('fill', 16),\n",
       " ('renew', 50),\n",
       " ('coordinate', 4),\n",
       " ('grow', 20),\n",
       " ('stop', 22),\n",
       " ('challenge', 65),\n",
       " ('recommend', 86),\n",
       " ('quiz', 3),\n",
       " ('arrange', 15),\n",
       " ('race', 49),\n",
       " ('preside', 98),\n",
       " ('stock', 158),\n",
       " ('overcome', 1),\n",
       " ('sigh', 28),\n",
       " ('shock', 7),\n",
       " ('charge', 112),\n",
       " ('suck', 16),\n",
       " ('inch', 4),\n",
       " ('pinch', 2),\n",
       " ('buck', 21),\n",
       " ('rise', 39),\n",
       " ('equip', 28),\n",
       " ('link', 244),\n",
       " ('finish', 4),\n",
       " ('easily', 1),\n",
       " ('nip', 43),\n",
       " ('steal', 7),\n",
       " ('chair', 82),\n",
       " ('jam', 27),\n",
       " ('lick', 283),\n",
       " ('author', 112),\n",
       " ('finance', 146),\n",
       " ('blow', 5),\n",
       " ('bill', 220),\n",
       " ('implement', 68),\n",
       " ('aid', 87),\n",
       " ('hold', 104),\n",
       " ('compute', 148),\n",
       " ('feed', 38),\n",
       " ('shut', 21),\n",
       " ('brief', 184),\n",
       " ('authorize', 19),\n",
       " ('experience', 13),\n",
       " ('discover', 64),\n",
       " ('command', 6),\n",
       " ('drill', 33),\n",
       " ('emerge', 50),\n",
       " ('dash', 71),\n",
       " ('monitor', 42),\n",
       " ('sort', 10),\n",
       " ('stroke', 3),\n",
       " ('twist', 17),\n",
       " ('procure', 30),\n",
       " ('resign', 37),\n",
       " ('stack', 29),\n",
       " ('force', 88),\n",
       " ('acquire', 2),\n",
       " ('touch', 66),\n",
       " ('swap', 204),\n",
       " ('mediate', 30),\n",
       " ('write', 37),\n",
       " ('refer', 50),\n",
       " ('solve', 28),\n",
       " ('fan', 106),\n",
       " ('escape', 2),\n",
       " ('crawl', 103),\n",
       " ('complete', 52),\n",
       " ('observe', 1),\n",
       " ('assess', 49),\n",
       " ('draft', 684),\n",
       " ('consult', 65),\n",
       " ('left', 27),\n",
       " ('broke', 99),\n",
       " ('introduce', 20),\n",
       " ('index', 118),\n",
       " ('uncover', 2),\n",
       " ('cram', 16),\n",
       " ('withdraw', 24),\n",
       " ('guide', 31),\n",
       " ('recruit', 43),\n",
       " ('quit', 74),\n",
       " ('switch', 34),\n",
       " ('relate', 146),\n",
       " ('delete', 11),\n",
       " ('flip', 10),\n",
       " ('catch', 16),\n",
       " ('drop', 27),\n",
       " ('predict', 22),\n",
       " ('shear', 2),\n",
       " ('forge', 14),\n",
       " ('kill', 36),\n",
       " ('limp', 7),\n",
       " ('prepare', 11),\n",
       " ('maintain', 6),\n",
       " ('minimize', 1),\n",
       " ('explain', 6),\n",
       " ('lead', 112),\n",
       " ('screen', 33),\n",
       " ('unify', 34),\n",
       " ('deduct', 3),\n",
       " ('bang', 6),\n",
       " ('unite', 60),\n",
       " ('lower', 57),\n",
       " ('achieve', 22),\n",
       " ('crouch', 2),\n",
       " ('snap', 5),\n",
       " ('remove', 20),\n",
       " ('nick', 14),\n",
       " ('stub', 118),\n",
       " ('represent', 33),\n",
       " ('interchange', 6),\n",
       " ('clip', 22),\n",
       " ('convert', 16),\n",
       " ('dive', 26),\n",
       " ('fear', 14),\n",
       " ('negotiate', 84),\n",
       " ('collect', 45),\n",
       " ('pump', 8),\n",
       " ('shift', 23),\n",
       " ('quicken', 3),\n",
       " ('throw', 16),\n",
       " ('insert', 7),\n",
       " ('fix', 43),\n",
       " ('arrest', 5),\n",
       " ('lecture', 9),\n",
       " ('jump', 7),\n",
       " ('retain', 47),\n",
       " ('restore', 5),\n",
       " ('spin', 9),\n",
       " ('outline', 15),\n",
       " ('probe', 16),\n",
       " ('ground', 18),\n",
       " ('dance', 43),\n",
       " ('provide', 25),\n",
       " ('inspect', 3),\n",
       " ('steer', 9),\n",
       " ('strap', 2),\n",
       " ('trap', 2),\n",
       " ('tear', 14),\n",
       " ('expedite', 3),\n",
       " ('supply', 84),\n",
       " ('elope', 12),\n",
       " ('poke', 18),\n",
       " ('zip', 7),\n",
       " ('weed', 4),\n",
       " ('encourage', 6),\n",
       " ('bump', 4),\n",
       " ('stick', 11),\n",
       " ('locate', 15),\n",
       " ('nominate', 13),\n",
       " ('graduate', 17),\n",
       " ('telephone', 111),\n",
       " ('pray', 21),\n",
       " ('fall', 95),\n",
       " ('reel', 37),\n",
       " ('drink', 40),\n",
       " ('track', 227),\n",
       " ('strike', 20),\n",
       " ('hail', 5),\n",
       " ('ensure', 2),\n",
       " ('record', 29),\n",
       " ('sense', 5),\n",
       " ('protect', 81),\n",
       " ('gather', 13),\n",
       " ('combine', 3),\n",
       " ('guard', 2),\n",
       " ('scan', 55),\n",
       " ('respond', 56),\n",
       " ('teach', 6),\n",
       " ('push', 7),\n",
       " ('detect', 1),\n",
       " ('verify', 3),\n",
       " ('stress', 9),\n",
       " ('sip', 7),\n",
       " ('advise', 5),\n",
       " ('saw', 4),\n",
       " ('stun', 1),\n",
       " ('improve', 12),\n",
       " ('hire', 30),\n",
       " ('unwind', 33),\n",
       " ('ably', 4),\n",
       " ('suspend', 66),\n",
       " ('dry', 18),\n",
       " ('indict', 2),\n",
       " ('toss', 1),\n",
       " ('punch', 1),\n",
       " ('grab', 8),\n",
       " ('slam', 1),\n",
       " ('block', 19),\n",
       " ('rebuild', 10),\n",
       " ('prompt', 13),\n",
       " ('integrate', 7),\n",
       " ('clarify', 1),\n",
       " ('launch', 17),\n",
       " ('consolidate', 35),\n",
       " ('hide', 19),\n",
       " ('construct', 49),\n",
       " ('clap', 2),\n",
       " ('influence', 10),\n",
       " ('customize', 6),\n",
       " ('allocate', 8),\n",
       " ('yield', 3),\n",
       " ('streamline', 1),\n",
       " ('spy', 10),\n",
       " ('adjust', 51),\n",
       " ('illustrate', 3),\n",
       " ('debate', 13),\n",
       " ('display', 3),\n",
       " ('sprint', 8),\n",
       " ('foster', 7),\n",
       " ('enact', 7),\n",
       " ('exit', 12),\n",
       " ('nab', 49),\n",
       " ('explore', 8),\n",
       " ('set up', 13),\n",
       " ('conduct', 30),\n",
       " ('exhibit', 56),\n",
       " ('judge', 65),\n",
       " ('vault', 3),\n",
       " ('scout', 4),\n",
       " ('dart', 10),\n",
       " ('raise', 24),\n",
       " ('participate', 173),\n",
       " ('type', 43),\n",
       " ('attack', 59),\n",
       " ('evaluate', 1),\n",
       " ('swing', 5),\n",
       " ('formalize', 1),\n",
       " ('listen', 4),\n",
       " ('jimmy', 1),\n",
       " ('focus', 35),\n",
       " ('appropriate', 2),\n",
       " ('spark', 21),\n",
       " ('fly', 17),\n",
       " ('understand', 14),\n",
       " ('narrow', 3),\n",
       " ('crash', 9),\n",
       " ('drag', 3),\n",
       " ('counsel', 38),\n",
       " ('plod', 5),\n",
       " ('split', 6),\n",
       " ('walk', 44),\n",
       " ('flee', 10),\n",
       " ('avoid', 20),\n",
       " ('halt', 2),\n",
       " ('skim', 1),\n",
       " ('advocate', 4),\n",
       " ('climb', 2),\n",
       " ('channel', 6),\n",
       " ('drain', 2),\n",
       " ('taste', 1),\n",
       " ('kick', 24),\n",
       " ('pioneer', 7),\n",
       " ('tutor', 2),\n",
       " ('transform', 4),\n",
       " ('shape', 13),\n",
       " ('pirate', 2),\n",
       " ('campaign', 29),\n",
       " ('collapse', 10),\n",
       " ('wave', 6),\n",
       " ('scare', 9),\n",
       " ('evacuate', 1),\n",
       " ('whirl', 1),\n",
       " ('extract', 2),\n",
       " ('struck', 1),\n",
       " ('elevate', 1),\n",
       " ('pitch', 5),\n",
       " ('spur', 8),\n",
       " ('engineer', 10),\n",
       " ('tread', 2),\n",
       " ('collar', 4),\n",
       " ('repel', 1),\n",
       " ('pore', 4),\n",
       " ('parachute', 2),\n",
       " ('penetrate', 1),\n",
       " ('screw', 5),\n",
       " ('accelerate', 5),\n",
       " ('isolate', 1),\n",
       " ('scrub', 1),\n",
       " ('nail', 2),\n",
       " ('raid', 11),\n",
       " ('panic', 2),\n",
       " ('slay', 2),\n",
       " ('resist', 2),\n",
       " ('stagger', 1),\n",
       " ('peep', 3),\n",
       " ('harass', 19),\n",
       " ('manufacture', 1),\n",
       " ('define', 1),\n",
       " ('tout', 4),\n",
       " ('examine', 15),\n",
       " ('affirm', 2),\n",
       " ('experiment', 3),\n",
       " ('segment', 5),\n",
       " ('clutch', 1),\n",
       " ('organize', 8),\n",
       " ('spell', 1),\n",
       " ('keynote', 4),\n",
       " ('deck', 20),\n",
       " ('resolve', 13),\n",
       " ('taunt', 2),\n",
       " ('snoop', 1),\n",
       " ('signal', 3),\n",
       " ('brace', 3),\n",
       " ('sway', 2),\n",
       " ('shorten', 5),\n",
       " ('sail', 6),\n",
       " ('distinguish', 4),\n",
       " ('dodge', 3),\n",
       " ('fashion', 6),\n",
       " ('spike', 5),\n",
       " ('smack', 1),\n",
       " ('maim', 2),\n",
       " ('threaten', 2),\n",
       " ('fumble', 1),\n",
       " ('seal', 3),\n",
       " ('pull', 4),\n",
       " ('shield', 3),\n",
       " ('scale', 3),\n",
       " ('drip', 4),\n",
       " ('smell', 1),\n",
       " ('brighten', 3),\n",
       " ('trot', 10),\n",
       " ('delegate', 3),\n",
       " ('ignore', 1),\n",
       " ('eliminate', 2),\n",
       " ('pursue', 1),\n",
       " ('paw', 6),\n",
       " ('expose', 2),\n",
       " ('coach', 2),\n",
       " ('inspire', 1),\n",
       " ('summarize', 4),\n",
       " ('initiate', 2),\n",
       " ('lunge', 3),\n",
       " ('plunge', 3),\n",
       " ('needle', 10),\n",
       " ('parade', 3),\n",
       " ('compile', 5),\n",
       " ('pile', 6),\n",
       " ('fade', 2),\n",
       " ('rape', 3),\n",
       " ('dominate', 1),\n",
       " ('purge', 1),\n",
       " ('tuck', 3),\n",
       " ('effectively', 2),\n",
       " ('molest', 1),\n",
       " ('translate', 3),\n",
       " ('automate', 3),\n",
       " ('stamp', 1),\n",
       " ('dispatch', 4),\n",
       " ('blend', 7),\n",
       " ('decide', 3),\n",
       " ('erupt', 1),\n",
       " ('blast', 2),\n",
       " ('commandeer', 2),\n",
       " ('injure', 1),\n",
       " ('intensify', 3),\n",
       " ('abuse', 11),\n",
       " ('critique', 1),\n",
       " ('repair', 3),\n",
       " ('devise', 4),\n",
       " ('relieve', 1),\n",
       " ('persuade', 3),\n",
       " ('clash', 2),\n",
       " ('analyze', 1),\n",
       " ('strengthen', 1),\n",
       " ('spray', 1),\n",
       " ('fake', 1),\n",
       " ('generate', 1),\n",
       " ('validate', 1),\n",
       " ('shoot', 4),\n",
       " ('avert', 1),\n",
       " ('photograph', 1),\n",
       " ('drape', 2),\n",
       " ('investigate', 1),\n",
       " ('slash', 1),\n",
       " ('unravel', 6),\n",
       " ('bury', 6),\n",
       " ('decrease', 6),\n",
       " ('mourn', 3),\n",
       " ('swim', 1),\n",
       " ('mentor', 4),\n",
       " ('wreck', 1),\n",
       " ('gossip', 2),\n",
       " ('scour', 2),\n",
       " ('proofread', 1),\n",
       " ('tilt', 1),\n",
       " ('mock', 1),\n",
       " ('accuse', 3),\n",
       " ('actively', 2),\n",
       " ('inject', 1),\n",
       " ('haul', 2),\n",
       " ('transcribe', 1),\n",
       " ('sew', 1),\n",
       " ('picket', 3),\n",
       " ('built', 1),\n",
       " ('wade', 1),\n",
       " ('enable', 1),\n",
       " ('creep', 1),\n",
       " ('hitch', 2),\n",
       " ('soil', 2),\n",
       " ('recoup', 2),\n",
       " ('sustain', 2),\n",
       " ('slug', 1)]"
      ]
     },
     "execution_count": 33,
     "metadata": {},
     "output_type": "execute_result"
    }
   ],
   "source": [
    "list(dictionary)"
   ]
  },
  {
   "attachments": {},
   "cell_type": "markdown",
   "metadata": {},
   "source": [
    "We are almost there. You can see that now it's been separated into what's essentially two columns ('word', value)"
   ]
  },
  {
   "attachments": {},
   "cell_type": "markdown",
   "metadata": {},
   "source": [
    "By using `pd.Dataframe(list, columns=['col1', 'col2'])` we can convert this list into a dataframe"
   ]
  },
  {
   "cell_type": "code",
   "execution_count": 34,
   "metadata": {},
   "outputs": [],
   "source": [
    "word_counts_df = pd.DataFrame(list(word_count.items()), columns=['word', 'count'])"
   ]
  },
  {
   "attachments": {},
   "cell_type": "markdown",
   "metadata": {},
   "source": [
    "Then we can sort it into descending order based on the top count and print the top 10 action words"
   ]
  },
  {
   "cell_type": "code",
   "execution_count": 35,
   "metadata": {},
   "outputs": [
    {
     "name": "stdout",
     "output_type": "stream",
     "text": [
      "       word  count\n",
      "38     meet   2855\n",
      "45      act   2535\n",
      "79   update   2402\n",
      "12   report   2296\n",
      "1        do   2202\n",
      "42      sit   1767\n",
      "29     edit   1472\n",
      "128    mark   1345\n",
      "43     form   1193\n",
      "153    call   1144\n"
     ]
    }
   ],
   "source": [
    "# Sort into descesding order based on counter\n",
    "word_counts_df = word_counts_df.sort_values('count', ascending=False)\n",
    "\n",
    "# Grab the top 10 most used words\n",
    "top_10_df = word_counts_df.head(10)\n",
    "\n",
    "print(top_10_df)"
   ]
  }
 ],
 "metadata": {
  "kernelspec": {
   "display_name": "Python 3",
   "language": "python",
   "name": "python3"
  },
  "language_info": {
   "codemirror_mode": {
    "name": "ipython",
    "version": 3
   },
   "file_extension": ".py",
   "mimetype": "text/x-python",
   "name": "python",
   "nbconvert_exporter": "python",
   "pygments_lexer": "ipython3",
   "version": "3.10.6"
  },
  "orig_nbformat": 4
 },
 "nbformat": 4,
 "nbformat_minor": 2
}
